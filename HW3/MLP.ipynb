{
  "cells": [
    {
      "cell_type": "code",
      "execution_count": null,
      "metadata": {
        "id": "p7YRvfuKDGRi"
      },
      "outputs": [],
      "source": [
        "%matplotlib inline\n",
        "import numpy as np\n",
        "from sklearn import datasets\n",
        "from sklearn import model_selection\n",
        "import matplotlib.pyplot as plt\n",
        "import pdb\n",
        "import torch"
      ]
    },
    {
      "cell_type": "markdown",
      "metadata": {
        "id": "B5k6kMRpDGRk"
      },
      "source": [
        "## 1- Coding a Multi-Layer Perceptron from scratch."
      ]
    },
    {
      "cell_type": "markdown",
      "metadata": {
        "id": "GM-rxo3VDGRl"
      },
      "source": [
        "### 1. Implement basic utility functions\n",
        "\n",
        "In this section, you will implement key functions required to build and train a Multi-Layer Perceptron (MLP) from scratch.\n",
        "\n",
        "- `F_standardize`: Normalize your dataset (zero mean, unit variance)\n",
        "- `F_sigmoid`: Implement the sigmoid activation function\n",
        "- `F_relu` and `F_drelu`: Implement the ReLU activation and its derivative\n",
        "- `F_computeCost`: Compute the total loss over all samples\n",
        "- `F_computeAccuracy`: Compute the prediction accuracy (in percent)\n",
        "\n",
        "These utility functions will be used later in the MLP class.\n"
      ]
    },
    {
      "cell_type": "code",
      "execution_count": null,
      "metadata": {
        "id": "1VnyoVLEDGRl"
      },
      "outputs": [],
      "source": [
        "def F_standardize(X):\n",
        "    \"\"\"\n",
        "    standardize X, i.e. subtract mean (over data) and divide by standard-deviation (over data)\n",
        "    Parameters\n",
        "    ----------\n",
        "    X: np.array of size (nbData, nbDim)\n",
        "        matrix containing the observation data\n",
        "    Returns\n",
        "    -------\n",
        "    X: np.array of size (nbData, nbDim)\n",
        "        standardize version of X\n",
        "    \"\"\"\n",
        "\n",
        "    X -= np.mean(X, axis=0, keepdims=True)\n",
        "    X /= (np.std(X, axis=0, keepdims=True) + 1e-16)\n",
        "    return X\n",
        "\n",
        "def F_sigmoid(x):\n",
        "    \"\"\"Compute the value of the sigmoid activation function\"\"\"\n",
        "    # TODO\n",
        "    return 1 / (1 + np.exp(-x))\n",
        "\n",
        "def F_relu(x):\n",
        "    \"\"\"Compute the value of the Rectified Linear Unit activation function\"\"\"\n",
        "    # TODO\n",
        "    return np.maximum(0, x)\n",
        "\n",
        "def F_dRelu(x):\n",
        "    \"\"\"Compute the derivative of the Rectified Linear Unit activation function\"\"\"\n",
        "    # TODO\n",
        "    return (x > 0).astype(float)\n",
        "\n",
        "def F_computeCost(hat_y,y):\n",
        "    \"\"\"Compute the cost (sum of the losses)\"\"\"\n",
        "    # TODO\n",
        "    epsilon = 1e-9\n",
        "    cost = -np.sum(y * np.log(hat_y + epsilon) + (1 - y) * np.log(1 - hat_y + epsilon))\n",
        "    return cost\n",
        "\n",
        "def F_computeAccuracy(hat_y,y):\n",
        "    \"\"\"Compute the accuracy (in percents)\"\"\"\n",
        "    # TODO\n",
        "    predicted_labels = (hat_y > 0.5).astype(int)\n",
        "    accuracy = np.mean(predicted_labels == y.reshape(predicted_labels.shape)) * 100\n",
        "    return accuracy"
      ]
    },
    {
      "cell_type": "markdown",
      "metadata": {
        "id": "_6uwZZCdDGRm"
      },
      "source": [
        "### 2. Prepare the dataset\n",
        "\n",
        "- Standardize the dataset using `F_standardize` function.\n",
        "- Split the dataset into training and test sets.\n",
        "- Reshape the data to match the expected input/output shape of your neural network.\n",
        "\n",
        "Make sure your data has the correct shape:\n",
        "- Input shape: `(n_features, n_examples)`\n",
        "- Output shape: `(1, n_examples)`\n"
      ]
    },
    {
      "cell_type": "code",
      "execution_count": null,
      "metadata": {
        "colab": {
          "base_uri": "https://localhost:8080/"
        },
        "id": "_TlLI1nMDGRm",
        "outputId": "fded8658-4664-434a-de93-62039674969e"
      },
      "outputs": [
        {
          "name": "stdout",
          "output_type": "stream",
          "text": [
            "Initial X.shape: (1000, 2)\n",
            "Initial y.shape: (1000,)\n",
            "Classes: {np.int64(0), np.int64(1)}\n",
            "\n",
            "--- After Reshaping ---\n",
            "X_train.shape: (2, 800)\n",
            "X_test.shape: (2, 200)\n",
            "y_train.shape: (1, 800)\n",
            "y_test.shape: (1, 200)\n",
            "n_in: 2 n_out: 1\n"
          ]
        }
      ],
      "source": [
        "X, y = datasets.make_circles(n_samples=1000, noise=0.05, factor=0.5)\n",
        "\n",
        "print(\"Initial X.shape: {}\".format(X.shape))\n",
        "print(\"Initial y.shape: {}\".format(y.shape))\n",
        "print(\"Classes: {}\".format(set(y)))\n",
        "\n",
        "# X is (nbExamples, nbDim)\n",
        "# y is (nbExamples,)\n",
        "\n",
        "# Standardize data\n",
        "X = F_standardize(X)\n",
        "\n",
        "# Split between training set and test set\n",
        "# TODO\n",
        "X_train, X_test, y_train, y_test = model_selection.train_test_split(\n",
        "    X, y, test_size=0.2, random_state=42\n",
        ")\n",
        "\n",
        "# Convert to proper shape: (nbExamples, nbDim) -> (nbDim, nbExamples)\n",
        "X_train = X_train.T\n",
        "X_test = X_test.T\n",
        "\n",
        "# Convert to proper shape: (nbExamples,) -> (1, nbExamples)\n",
        "y_train = y_train.reshape(1, len(y_train))\n",
        "y_test = y_test.reshape(1, len(y_test))\n",
        "\n",
        "n_in = X_train.shape[0]\n",
        "n_out = 1\n",
        "\n",
        "print(\"\\n--- After Reshaping ---\")\n",
        "print(\"X_train.shape: {}\".format(X_train.shape))\n",
        "print(\"X_test.shape: {}\".format(X_test.shape))\n",
        "print(\"y_train.shape: {}\".format(y_train.shape))\n",
        "print(\"y_test.shape: {}\".format(y_test.shape))\n",
        "print(\"n_in: {} n_out: {}\".format(n_in, n_out))"
      ]
    },
    {
      "cell_type": "code",
      "execution_count": null,
      "metadata": {
        "colab": {
          "base_uri": "https://localhost:8080/",
          "height": 447
        },
        "id": "KJMiIhhMDGRm",
        "outputId": "27f46b3a-e469-47fb-bd1b-6707e5b90bf6"
      },
      "outputs": [
        {
          "data": {
            "text/plain": [
              "<matplotlib.collections.PathCollection at 0x78265abd0d50>"
            ]
          },
          "execution_count": 16,
          "metadata": {},
          "output_type": "execute_result"
        },
        {
          "data": {
            "image/png": "[encoded data removed]",
            "text/plain": [
              "<Figure size 640x480 with 1 Axes>"
            ]
          },
          "metadata": {},
          "output_type": "display_data"
        }
      ],
      "source": [
        "# plot data\n",
        "plt.scatter(X_train[0,np.ravel(y_train==0)],X_train[1,np.ravel(y_train==0)],color='r')\n",
        "plt.scatter(X_train[0,np.ravel(y_train==1)],X_train[1,np.ravel(y_train==1)],color='b')"
      ]
    },
    {
      "cell_type": "markdown",
      "metadata": {
        "id": "ZQ1G6SHtDGRn"
      },
      "source": [
        "### 3. Implement the MLP class\n",
        "\n",
        "In this section, you will define a `C_MultiLayerPerceptron` class that represents a basic feedforward neural network with:\n",
        "- One hidden layer\n",
        "- ReLU activation in the hidden layer\n",
        "- Softmax (or sigmoid) activation in the output layer (depending on task)\n",
        "\n",
        "You must implement the following:\n",
        "- Weight and bias initialization in `__init__`\n",
        "- Forward propagation logic in `forward_propagation`\n",
        "- Backpropagation in `backward_propagation`\n",
        "- Parameter updates using gradient descent in `update_parameters`\n",
        "\n",
        "Follow the diagram above for the flow of data through the network.\n"
      ]
    },
    {
      "cell_type": "markdown",
      "metadata": {
        "id": "jV_tUwCsDGRn"
      },
      "source": [
        "\n",
        "\n",
        "\n",
        "![Model Diagram](MLP.png)\n",
        "\n"
      ]
    },
    {
      "cell_type": "code",
      "execution_count": null,
      "metadata": {
        "id": "OS1UGG9eDGRn"
      },
      "outputs": [],
      "source": [
        "class C_MultiLayerPerceptron:\n",
        "    \"\"\"\n",
        "    A class used to represent a Multi-Layer Perceptron with 1 hidden layer.\n",
        "\n",
        "    ...\n",
        "\n",
        "    Attributes\n",
        "    ----------\n",
        "    W1, b1, W2, b2:\n",
        "        weights and biases to be learnt\n",
        "    Z1, A1, Z2, A2:\n",
        "        values of the internal neurons to be used for backpropagation\n",
        "    dW1, db1, dW2, db2:\n",
        "        partial derivatives of the loss w.r.t. parameters\n",
        "\n",
        "    Methods\n",
        "    -------\n",
        "    M_forwardPropagation\n",
        "        Computes the forward pass of the network.\n",
        "    M_backwardPropagation\n",
        "        Computes the backward pass to calculate gradients.\n",
        "    M_gradientDescent\n",
        "        Updates the network parameters.\n",
        "    \"\"\"\n",
        "\n",
        "    W1, b1, W2, b2 = [], [], [], []\n",
        "    Z1, A1, Z2, A2 = [], [], [], []\n",
        "    dW1, db1, dW2, db2 = [], [], [], []\n",
        "    dZ1, dA1, dZ2 = [], [], []\n",
        "\n",
        "    def __init__(self, n_in, n_h, n_out):\n",
        "        \"\"\"Initialise weight and biases parameters.\"\"\"\n",
        "        # TODO\n",
        "        self.W1 = np.random.randn(n_h, n_in) * 0.01\n",
        "        self.b1 = np.zeros((n_h, 1))\n",
        "        self.W2 = np.random.randn(n_out, n_h) * 0.01\n",
        "        self.b2 = np.zeros((n_out, 1))\n",
        "\n",
        "\n",
        "    def M_forwardPropagation(self, X):\n",
        "        \"\"\"Forward propagation in the MLP\n",
        "\n",
        "        Parameters\n",
        "        ----------\n",
        "        X: numpy array (nbDim, nbData)\n",
        "            observation data\n",
        "        Return\n",
        "        ------\n",
        "        hat_y: numpy array (1, nbData)\n",
        "            predicted value by the MLP\n",
        "        \"\"\"\n",
        "        # TODO\n",
        "        self.Z1 = np.dot(self.W1, X) + self.b1\n",
        "        self.A1 = F_relu(self.Z1)\n",
        "\n",
        "\n",
        "        self.Z2 = np.dot(self.W2, self.A1) + self.b2\n",
        "        self.A2 = F_sigmoid(self.Z2)\n",
        "\n",
        "        hat_y = self.A2\n",
        "        return hat_y\n",
        "\n",
        "\n",
        "    def M_backwardPropagation(self, X, y):\n",
        "        \"\"\"Backward propagation in the MLP\n",
        "\n",
        "        Parameters\n",
        "        ----------\n",
        "        X: numpy array (nbDim, nbData)\n",
        "            observation data\n",
        "        y: numpy array (1, nbData)\n",
        "            ground-truth class to predict\n",
        "        \"\"\"\n",
        "        # TODO\n",
        "        m = X.shape[1]\n",
        "\n",
        "        self.dZ2 = self.A2 - y\n",
        "\n",
        "        self.dW2 = (1/m) * np.dot(self.dZ2, self.A1.T)\n",
        "\n",
        "        self.db2 = (1/m) * np.sum(self.dZ2, axis=1, keepdims=True)\n",
        "        self.dA1 = np.dot(self.W2.T, self.dZ2)\n",
        "        self.dZ1 = self.dA1 * F_dRelu(self.Z1) \n",
        "\n",
        "        self.dW1 = (1/m) * np.dot(self.dZ1, X.T)\n",
        "\n",
        "        self.db1 = (1/m) * np.sum(self.dZ1, axis=1, keepdims=True)\n",
        "\n",
        "\n",
        "    def M_gradientDescent(self, alpha):\n",
        "        \"\"\"Update the parameters of the network using gradient descent\n",
        "\n",
        "        Parameters\n",
        "        ----------\n",
        "        alpha: float scalar\n",
        "            amount of update at each step of the gradient descent (learning rate)\n",
        "        \"\"\"\n",
        "        # TODO\n",
        "        self.W1 = self.W1 - alpha * self.dW1\n",
        "        self.b1 = self.b1 - alpha * self.db1\n",
        "        self.W2 = self.W2 - alpha * self.dW2\n",
        "        self.b2 = self.b2 - alpha * self.db2"
      ]
    },
    {
      "cell_type": "markdown",
      "metadata": {
        "id": "YOLVEHrNDGRo"
      },
      "source": [
        "### 4. Train and evaluate the MLP\n",
        "\n",
        "You are now ready to train your multi-layer perceptron.\n",
        "\n",
        "- Instantiate the `C_MultiLayerPerceptron` class with the correct input, hidden, and output sizes.\n",
        "- Implement the training loop over a fixed number of epochs.\n",
        "- In each epoch, perform:\n",
        "  - Forward propagation on the training and test data\n",
        "  - Backward propagation on the training data\n",
        "  - Parameter update using gradient descent\n",
        "  - Logging of training and test loss and accuracy\n",
        "\n",
        "Finally, display the evolution of train/test loss and accuracy to evaluate the performance of your network.\n"
      ]
    },
    {
      "cell_type": "code",
      "execution_count": null,
      "metadata": {
        "colab": {
          "base_uri": "https://localhost:8080/",
          "height": 1000
        },
        "id": "a4-chGc3DGRo",
        "outputId": "c352302f-77b0-41bb-ab60-2e5e6f4b09a3"
      },
      "outputs": [
        {
          "name": "stdout",
          "output_type": "stream",
          "text": [
            "Epoch 0: Train Cost=554.5227, Train Acc=50.38%, Test Cost=138.6334, Test Acc=48.00%\n",
            "Epoch 100: Train Cost=554.3192, Train Acc=50.50%, Test Cost=138.6799, Test Acc=48.00%\n",
            "Epoch 200: Train Cost=553.7263, Train Acc=50.50%, Test Cost=138.5726, Test Acc=48.00%\n",
            "Epoch 300: Train Cost=551.1662, Train Acc=65.62%, Test Cost=138.0885, Test Acc=59.50%\n",
            "Epoch 400: Train Cost=541.5394, Train Acc=61.75%, Test Cost=136.2735, Test Acc=60.00%\n",
            "Epoch 500: Train Cost=515.4873, Train Acc=72.75%, Test Cost=131.1673, Test Acc=70.50%\n",
            "Epoch 600: Train Cost=466.9108, Train Acc=75.12%, Test Cost=121.0524, Test Acc=68.00%\n",
            "Epoch 700: Train Cost=399.8576, Train Acc=89.25%, Test Cost=105.6939, Test Acc=82.50%\n",
            "Epoch 800: Train Cost=318.4568, Train Acc=96.25%, Test Cost=83.7219, Test Acc=95.00%\n",
            "Epoch 900: Train Cost=247.5789, Train Acc=99.38%, Test Cost=63.3594, Test Acc=99.50%\n",
            "Epoch 1000: Train Cost=198.1336, Train Acc=99.62%, Test Cost=49.7879, Test Acc=100.00%\n",
            "Epoch 1100: Train Cost=163.6446, Train Acc=99.88%, Test Cost=40.4433, Test Acc=100.00%\n",
            "Epoch 1200: Train Cost=138.7860, Train Acc=100.00%, Test Cost=33.9956, Test Acc=100.00%\n",
            "Epoch 1300: Train Cost=120.1248, Train Acc=100.00%, Test Cost=29.2528, Test Acc=100.00%\n",
            "Epoch 1400: Train Cost=105.4289, Train Acc=100.00%, Test Cost=25.5425, Test Acc=100.00%\n",
            "Epoch 1500: Train Cost=93.2983, Train Acc=100.00%, Test Cost=22.4825, Test Acc=100.00%\n",
            "Epoch 1600: Train Cost=83.0152, Train Acc=100.00%, Test Cost=19.8715, Test Acc=100.00%\n",
            "Epoch 1700: Train Cost=74.0026, Train Acc=100.00%, Test Cost=17.6164, Test Acc=100.00%\n",
            "Epoch 1800: Train Cost=65.9007, Train Acc=100.00%, Test Cost=15.6203, Test Acc=100.00%\n",
            "Epoch 1900: Train Cost=58.6864, Train Acc=100.00%, Test Cost=13.8456, Test Acc=100.00%\n",
            "Epoch 2000: Train Cost=52.2502, Train Acc=100.00%, Test Cost=12.2756, Test Acc=100.00%\n",
            "Epoch 2100: Train Cost=46.3536, Train Acc=100.00%, Test Cost=11.0102, Test Acc=100.00%\n",
            "Epoch 2200: Train Cost=41.1136, Train Acc=100.00%, Test Cost=9.7771, Test Acc=100.00%\n",
            "Epoch 2300: Train Cost=36.5397, Train Acc=100.00%, Test Cost=8.6983, Test Acc=100.00%\n",
            "Epoch 2400: Train Cost=32.5692, Train Acc=100.00%, Test Cost=7.7612, Test Acc=100.00%\n",
            "Epoch 2500: Train Cost=29.1553, Train Acc=100.00%, Test Cost=6.9524, Test Acc=100.00%\n",
            "Epoch 2600: Train Cost=26.2175, Train Acc=100.00%, Test Cost=6.2261, Test Acc=100.00%\n",
            "Epoch 2700: Train Cost=23.6725, Train Acc=100.00%, Test Cost=5.6083, Test Acc=100.00%\n",
            "Epoch 2800: Train Cost=21.4806, Train Acc=100.00%, Test Cost=5.0889, Test Acc=100.00%\n",
            "Epoch 2900: Train Cost=19.5412, Train Acc=100.00%, Test Cost=4.6726, Test Acc=100.00%\n",
            "Epoch 3000: Train Cost=17.8519, Train Acc=100.00%, Test Cost=4.2961, Test Acc=100.00%\n",
            "Epoch 3100: Train Cost=16.3964, Train Acc=100.00%, Test Cost=3.9571, Test Acc=100.00%\n",
            "Epoch 3200: Train Cost=15.1282, Train Acc=100.00%, Test Cost=3.6609, Test Acc=100.00%\n",
            "Epoch 3300: Train Cost=14.0032, Train Acc=100.00%, Test Cost=3.3977, Test Acc=100.00%\n",
            "Epoch 3400: Train Cost=13.0145, Train Acc=100.00%, Test Cost=3.1545, Test Acc=100.00%\n",
            "Epoch 3500: Train Cost=12.1392, Train Acc=100.00%, Test Cost=2.9342, Test Acc=100.00%\n",
            "Epoch 3600: Train Cost=11.3613, Train Acc=100.00%, Test Cost=2.7390, Test Acc=100.00%\n",
            "Epoch 3700: Train Cost=10.6626, Train Acc=100.00%, Test Cost=2.5644, Test Acc=100.00%\n",
            "Epoch 3800: Train Cost=10.0300, Train Acc=100.00%, Test Cost=2.4061, Test Acc=100.00%\n",
            "Epoch 3900: Train Cost=9.4586, Train Acc=100.00%, Test Cost=2.2632, Test Acc=100.00%\n",
            "Epoch 4000: Train Cost=8.9399, Train Acc=100.00%, Test Cost=2.1325, Test Acc=100.00%\n",
            "Epoch 4100: Train Cost=8.4669, Train Acc=100.00%, Test Cost=2.0144, Test Acc=100.00%\n",
            "Epoch 4200: Train Cost=8.0332, Train Acc=100.00%, Test Cost=1.9064, Test Acc=100.00%\n",
            "Epoch 4300: Train Cost=7.6356, Train Acc=100.00%, Test Cost=1.8083, Test Acc=100.00%\n",
            "Epoch 4400: Train Cost=7.2713, Train Acc=100.00%, Test Cost=1.7173, Test Acc=100.00%\n",
            "Epoch 4500: Train Cost=6.9375, Train Acc=100.00%, Test Cost=1.6345, Test Acc=100.00%\n",
            "Epoch 4600: Train Cost=6.6298, Train Acc=100.00%, Test Cost=1.5591, Test Acc=100.00%\n",
            "Epoch 4700: Train Cost=6.3454, Train Acc=100.00%, Test Cost=1.4898, Test Acc=100.00%\n",
            "Epoch 4800: Train Cost=6.0831, Train Acc=100.00%, Test Cost=1.4256, Test Acc=100.00%\n",
            "Epoch 4900: Train Cost=5.8403, Train Acc=100.00%, Test Cost=1.3662, Test Acc=100.00%\n"
          ]
        },
        {
          "data": {
            "image/png": "[encoded data removed]",
            "text/plain": [
              "<Figure size 1400x600 with 2 Axes>"
            ]
          },
          "metadata": {},
          "output_type": "display_data"
        },
        {
          "name": "stdout",
          "output_type": "stream",
          "text": [
            "\n",
            "--- Final Performance ---\n",
            "Final Training Accuracy: 100.00%\n",
            "Final Test Accuracy: 100.00%\n"
          ]
        }
      ],
      "source": [
        "\n",
        "n_hidden = 10\n",
        "num_epoch = 5000\n",
        "learning_rate = 0.1\n",
        "myMLP = C_MultiLayerPerceptron(n_in, n_hidden, n_out)\n",
        "\n",
        "\n",
        "train_cost, train_accuracy, test_cost, test_accuracy = [], [], [], []\n",
        "\n",
        "for i in range(0, num_epoch):\n",
        "    # TODO: Train the model on the training data\n",
        "\n",
        "    hat_y_train = myMLP.M_forwardPropagation(X_train)\n",
        "\n",
        "    myMLP.M_backwardPropagation(X_train, y_train)\n",
        "\n",
        "    myMLP.M_gradientDescent(learning_rate)\n",
        "\n",
        "    if i % 100 == 0:\n",
        "        current_train_cost = F_computeCost(hat_y_train, y_train)\n",
        "        current_train_accuracy = F_computeAccuracy(hat_y_train, y_train)\n",
        "        train_cost.append(current_train_cost)\n",
        "        train_accuracy.append(current_train_accuracy)\n",
        "\n",
        "        hat_y_test = myMLP.M_forwardPropagation(X_test)\n",
        "        current_test_cost = F_computeCost(hat_y_test, y_test)\n",
        "        current_test_accuracy = F_computeAccuracy(hat_y_test, y_test)\n",
        "        test_cost.append(current_test_cost)\n",
        "        test_accuracy.append(current_test_accuracy)\n",
        "\n",
        "        print(f\"Epoch {i}: Train Cost={current_train_cost:.4f}, Train Acc={current_train_accuracy:.2f}%, \"\n",
        "              f\"Test Cost={current_test_cost:.4f}, Test Acc={current_test_accuracy:.2f}%\")\n",
        "\n",
        "\n",
        "plt.figure(figsize=(14, 6))\n",
        "\n",
        "plt.subplot(1, 2, 1)\n",
        "plt.plot(train_cost, label='Training Cost')\n",
        "plt.plot(test_cost, label='Test Cost')\n",
        "plt.title('Cost Function Evolution')\n",
        "plt.xlabel('Epochs (x100)')\n",
        "plt.ylabel('Cost')\n",
        "plt.legend()\n",
        "plt.grid(True)\n",
        "\n",
        "plt.subplot(1, 2, 2)\n",
        "plt.plot(train_accuracy, label='Training Accuracy')\n",
        "plt.plot(test_accuracy, label='Test Accuracy')\n",
        "plt.title('Accuracy Evolution')\n",
        "plt.xlabel('Epochs (x100)')\n",
        "plt.ylabel('Accuracy (%)')\n",
        "plt.legend()\n",
        "plt.grid(True)\n",
        "\n",
        "plt.tight_layout()\n",
        "plt.show()\n",
        "\n",
        "print(\"\\n--- Final Performance ---\")\n",
        "hat_y_train = myMLP.M_forwardPropagation(X_train)\n",
        "print(f\"Final Training Accuracy: {F_computeAccuracy(hat_y_train, y_train):.2f}%\")\n",
        "\n",
        "hat_y_test = myMLP.M_forwardPropagation(X_test)\n",
        "print(f\"Final Test Accuracy: {F_computeAccuracy(hat_y_test, y_test):.2f}%\")\n"
      ]
    },
    {
      "cell_type": "markdown",
      "metadata": {
        "id": "RifYKigtDGRo"
      },
      "source": [
        "## 2 - MLP using autograd"
      ]
    },
    {
      "cell_type": "code",
      "execution_count": null,
      "metadata": {
        "colab": {
          "base_uri": "https://localhost:8080/"
        },
        "id": "vU-eDtbCDGRo",
        "outputId": "33254ff2-4b61-4aeb-f063-54f3905af5fd"
      },
      "outputs": [
        {
          "name": "stdout",
          "output_type": "stream",
          "text": [
            "--- PyTorch Tensors ---\n",
            "X_train_tensor shape: torch.Size([800, 2])\n",
            "y_train_tensor shape: torch.Size([800, 1])\n",
            "X_test_tensor shape: torch.Size([200, 2])\n",
            "y_test_tensor shape: torch.Size([200, 1])\n"
          ]
        }
      ],
      "source": [
        "\n",
        "X, y = datasets.make_circles(n_samples=1000, noise=0.05, factor=0.5)\n",
        "\n",
        "X_train, X_test, y_train, y_test = model_selection.train_test_split(\n",
        "    X, y, test_size=0.2, random_state=42\n",
        ")\n",
        "X_train_tensor = torch.tensor(X_train, dtype=torch.float32)\n",
        "y_train_tensor = torch.tensor(y_train, dtype=torch.float32).reshape(-1, 1)\n",
        "\n",
        "X_test_tensor = torch.tensor(X_test, dtype=torch.float32)\n",
        "y_test_tensor = torch.tensor(y_test, dtype=torch.float32).reshape(-1, 1)\n",
        "\n",
        "\n",
        "# Print shapes to verify\n",
        "print(\"--- PyTorch Tensors ---\")\n",
        "print(f\"X_train_tensor shape: {X_train_tensor.shape}\")\n",
        "print(f\"y_train_tensor shape: {y_train_tensor.shape}\")\n",
        "print(f\"X_test_tensor shape: {X_test_tensor.shape}\")\n",
        "print(f\"y_test_tensor shape: {y_test_tensor.shape}\")"
      ]
    },
    {
      "cell_type": "code",
      "execution_count": null,
      "metadata": {
        "id": "zOoYd0nADGRp"
      },
      "outputs": [],
      "source": [
        "class C_MultiLayerPerceptron:\n",
        "    \"\"\"\n",
        "    A class used to represent a Multi-Layer Perceptron using PyTorch Autograd.\n",
        "    \"\"\"\n",
        "    def __init__(self, n_in, n_h, n_out):\n",
        "        self.W1 = torch.randn(n_in, n_h, requires_grad=True)\n",
        "        self.b1 = torch.zeros(n_h, requires_grad=True)\n",
        "        self.W2 = torch.randn(n_h, n_out, requires_grad=True)\n",
        "        self.b2 = torch.zeros(n_out, requires_grad=True)\n",
        "\n",
        "    def forward(self, X):\n",
        "        z1 = X @ self.W1 + self.b1\n",
        "        a1 = torch.relu(z1)\n",
        "        z2 = a1 @ self.W2 + self.b2\n",
        "        y_pred = torch.sigmoid(z2)\n",
        "        return y_pred\n",
        "\n",
        "    def compute_loss(self, y_pred, y_true):\n",
        "        return F.binary_cross_entropy(y_pred, y_true)\n",
        "\n",
        "    def backward(self, loss):\n",
        "        loss.backward()\n",
        "\n",
        "    def step(self, lr=0.01):\n",
        "        with torch.no_grad():\n",
        "            self.W1 -= lr * self.W1.grad\n",
        "            self.b1 -= lr * self.b1.grad\n",
        "            self.W2 -= lr * self.W2.grad\n",
        "            self.b2 -= lr * self.b2.grad\n",
        "            self.W1.grad.zero_()\n",
        "            self.b1.grad.zero_()\n",
        "            self.W2.grad.zero_()\n",
        "            self.b2.grad.zero_()\n"
      ]
    },
    {
      "cell_type": "code",
      "execution_count": null,
      "metadata": {
        "colab": {
          "base_uri": "https://localhost:8080/",
          "height": 1000
        },
        "id": "-SbPXY_3DGRp",
        "outputId": "13febef6-17da-49fe-8a6e-e0f66081ca79"
      },
      "outputs": [
        {
          "name": "stdout",
          "output_type": "stream",
          "text": [
            "Epoch 0: Train Loss=0.7269, Train Acc=50.63%, Test Loss=0.7435, Test Acc=48.50%\n",
            "Epoch 100: Train Loss=0.5365, Train Acc=71.00%, Test Loss=0.5601, Test Acc=66.50%\n",
            "Epoch 200: Train Loss=0.4557, Train Acc=86.37%, Test Loss=0.4855, Test Acc=84.00%\n",
            "Epoch 300: Train Loss=0.3622, Train Acc=93.62%, Test Loss=0.3922, Test Acc=90.50%\n",
            "Epoch 400: Train Loss=0.2709, Train Acc=99.00%, Test Loss=0.2946, Test Acc=99.50%\n",
            "Epoch 500: Train Loss=0.2055, Train Acc=100.00%, Test Loss=0.2222, Test Acc=100.00%\n",
            "Epoch 600: Train Loss=0.1596, Train Acc=100.00%, Test Loss=0.1702, Test Acc=100.00%\n",
            "Epoch 700: Train Loss=0.1262, Train Acc=100.00%, Test Loss=0.1328, Test Acc=100.00%\n",
            "Epoch 800: Train Loss=0.1018, Train Acc=100.00%, Test Loss=0.1060, Test Acc=100.00%\n",
            "Epoch 900: Train Loss=0.0840, Train Acc=100.00%, Test Loss=0.0866, Test Acc=100.00%\n",
            "Epoch 1000: Train Loss=0.0706, Train Acc=100.00%, Test Loss=0.0721, Test Acc=100.00%\n",
            "Epoch 1100: Train Loss=0.0604, Train Acc=100.00%, Test Loss=0.0612, Test Acc=100.00%\n",
            "Epoch 1200: Train Loss=0.0524, Train Acc=100.00%, Test Loss=0.0527, Test Acc=100.00%\n",
            "Epoch 1300: Train Loss=0.0460, Train Acc=100.00%, Test Loss=0.0460, Test Acc=100.00%\n",
            "Epoch 1400: Train Loss=0.0409, Train Acc=100.00%, Test Loss=0.0406, Test Acc=100.00%\n",
            "Epoch 1500: Train Loss=0.0367, Train Acc=100.00%, Test Loss=0.0363, Test Acc=100.00%\n",
            "Epoch 1600: Train Loss=0.0332, Train Acc=100.00%, Test Loss=0.0326, Test Acc=100.00%\n",
            "Epoch 1700: Train Loss=0.0302, Train Acc=100.00%, Test Loss=0.0295, Test Acc=100.00%\n",
            "Epoch 1800: Train Loss=0.0276, Train Acc=100.00%, Test Loss=0.0269, Test Acc=100.00%\n",
            "Epoch 1900: Train Loss=0.0255, Train Acc=100.00%, Test Loss=0.0246, Test Acc=100.00%\n",
            "Epoch 2000: Train Loss=0.0236, Train Acc=100.00%, Test Loss=0.0227, Test Acc=100.00%\n",
            "Epoch 2100: Train Loss=0.0219, Train Acc=100.00%, Test Loss=0.0210, Test Acc=100.00%\n",
            "Epoch 2200: Train Loss=0.0205, Train Acc=100.00%, Test Loss=0.0196, Test Acc=100.00%\n",
            "Epoch 2300: Train Loss=0.0192, Train Acc=100.00%, Test Loss=0.0183, Test Acc=100.00%\n",
            "Epoch 2400: Train Loss=0.0180, Train Acc=100.00%, Test Loss=0.0171, Test Acc=100.00%\n",
            "Epoch 2500: Train Loss=0.0170, Train Acc=100.00%, Test Loss=0.0161, Test Acc=100.00%\n",
            "Epoch 2600: Train Loss=0.0161, Train Acc=100.00%, Test Loss=0.0152, Test Acc=100.00%\n",
            "Epoch 2700: Train Loss=0.0153, Train Acc=100.00%, Test Loss=0.0144, Test Acc=100.00%\n",
            "Epoch 2800: Train Loss=0.0145, Train Acc=100.00%, Test Loss=0.0136, Test Acc=100.00%\n",
            "Epoch 2900: Train Loss=0.0138, Train Acc=100.00%, Test Loss=0.0129, Test Acc=100.00%\n",
            "Epoch 3000: Train Loss=0.0132, Train Acc=100.00%, Test Loss=0.0123, Test Acc=100.00%\n",
            "Epoch 3100: Train Loss=0.0126, Train Acc=100.00%, Test Loss=0.0117, Test Acc=100.00%\n",
            "Epoch 3200: Train Loss=0.0121, Train Acc=100.00%, Test Loss=0.0112, Test Acc=100.00%\n",
            "Epoch 3300: Train Loss=0.0116, Train Acc=100.00%, Test Loss=0.0107, Test Acc=100.00%\n",
            "Epoch 3400: Train Loss=0.0111, Train Acc=100.00%, Test Loss=0.0103, Test Acc=100.00%\n",
            "Epoch 3500: Train Loss=0.0107, Train Acc=100.00%, Test Loss=0.0099, Test Acc=100.00%\n",
            "Epoch 3600: Train Loss=0.0103, Train Acc=100.00%, Test Loss=0.0095, Test Acc=100.00%\n",
            "Epoch 3700: Train Loss=0.0099, Train Acc=100.00%, Test Loss=0.0091, Test Acc=100.00%\n",
            "Epoch 3800: Train Loss=0.0096, Train Acc=100.00%, Test Loss=0.0088, Test Acc=100.00%\n",
            "Epoch 3900: Train Loss=0.0092, Train Acc=100.00%, Test Loss=0.0085, Test Acc=100.00%\n",
            "Epoch 4000: Train Loss=0.0089, Train Acc=100.00%, Test Loss=0.0082, Test Acc=100.00%\n",
            "Epoch 4100: Train Loss=0.0086, Train Acc=100.00%, Test Loss=0.0079, Test Acc=100.00%\n",
            "Epoch 4200: Train Loss=0.0084, Train Acc=100.00%, Test Loss=0.0076, Test Acc=100.00%\n",
            "Epoch 4300: Train Loss=0.0081, Train Acc=100.00%, Test Loss=0.0074, Test Acc=100.00%\n",
            "Epoch 4400: Train Loss=0.0079, Train Acc=100.00%, Test Loss=0.0071, Test Acc=100.00%\n",
            "Epoch 4500: Train Loss=0.0076, Train Acc=100.00%, Test Loss=0.0069, Test Acc=100.00%\n",
            "Epoch 4600: Train Loss=0.0074, Train Acc=100.00%, Test Loss=0.0067, Test Acc=100.00%\n",
            "Epoch 4700: Train Loss=0.0072, Train Acc=100.00%, Test Loss=0.0065, Test Acc=100.00%\n",
            "Epoch 4800: Train Loss=0.0070, Train Acc=100.00%, Test Loss=0.0063, Test Acc=100.00%\n",
            "Epoch 4900: Train Loss=0.0068, Train Acc=100.00%, Test Loss=0.0062, Test Acc=100.00%\n"
          ]
        },
        {
          "data": {
            "image/png": "[encoded data removed]",
            "text/plain": [
              "<Figure size 1400x600 with 2 Axes>"
            ]
          },
          "metadata": {},
          "output_type": "display_data"
        }
      ],
      "source": [
        "\n",
        "n_in = X_train_tensor.shape[1]\n",
        "n_h = 10\n",
        "n_out = 1\n",
        "epochs = 5000\n",
        "learning_rate = 0.1\n",
        "\n",
        "mlp = C_MultiLayerPerceptron(n_in, n_h, n_out)\n",
        "train_losses = []\n",
        "test_losses = []\n",
        "train_accuracies = []\n",
        "test_accuracies = []\n",
        "\n",
        "for epoch in range(epochs):\n",
        "\n",
        "\n",
        "\n",
        "    y_pred_train = mlp.forward(X_train_tensor)\n",
        "\n",
        "\n",
        "    loss = mlp.compute_loss(y_pred_train, y_train_tensor)\n",
        "\n",
        "\n",
        "    mlp.backward(loss)\n",
        "\n",
        "\n",
        "    mlp.step(learning_rate)\n",
        "\n",
        "\n",
        "    if epoch % 100 == 0:\n",
        "        with torch.no_grad():\n",
        "            train_losses.append(loss.item())\n",
        "            train_preds = (y_pred_train > 0.5).float()\n",
        "            train_acc = (train_preds == y_train_tensor).float().mean().item()\n",
        "            train_accuracies.append(train_acc * 100)\n",
        "\n",
        "            y_pred_test = mlp.forward(X_test_tensor)\n",
        "            test_loss = mlp.compute_loss(y_pred_test, y_test_tensor)\n",
        "            test_losses.append(test_loss.item())\n",
        "            test_preds = (y_pred_test > 0.5).float()\n",
        "            test_acc = (test_preds == y_test_tensor).float().mean().item()\n",
        "            test_accuracies.append(test_acc * 100)\n",
        "\n",
        "            print(f\"Epoch {epoch}: Train Loss={loss.item():.4f}, Train Acc={train_acc*100:.2f}%, \"\n",
        "                  f\"Test Loss={test_loss.item():.4f}, Test Acc={test_acc*100:.2f}%\")\n",
        "\n",
        "\n",
        "\n",
        "plt.figure(figsize=(14, 6))\n",
        "\n",
        "\n",
        "plt.subplot(1, 2, 1)\n",
        "plt.plot(train_losses, label='Training Loss')\n",
        "plt.plot(test_losses, label='Test Loss')\n",
        "plt.title('Loss Evolution (PyTorch Autograd)')\n",
        "plt.xlabel('Epochs (x100)')\n",
        "plt.ylabel('Binary Cross-Entropy Loss')\n",
        "plt.legend()\n",
        "plt.grid(True)\n",
        "\n",
        "plt.subplot(1, 2, 2)\n",
        "plt.plot(train_accuracies, label='Training Accuracy')\n",
        "plt.plot(test_accuracies, label='Test Accuracy')\n",
        "plt.title('Accuracy Evolution (PyTorch Autograd)')\n",
        "plt.xlabel('Epochs (x100)')\n",
        "plt.ylabel('Accuracy (%)')\n",
        "plt.legend()\n",
        "plt.grid(True)\n",
        "\n",
        "plt.tight_layout()\n",
        "plt.show()\n"
      ]
    },
    {
      "cell_type": "code",
      "execution_count": null,
      "metadata": {
        "colab": {
          "base_uri": "https://localhost:8080/"
        },
        "id": "IdJ3C1hBDGRp",
        "outputId": "ce875147-a1fb-4292-efc7-68511dda1ba0"
      },
      "outputs": [
        {
          "name": "stdout",
          "output_type": "stream",
          "text": [
            "2.6.0+cu124\n"
          ]
        }
      ],
      "source": [
        "%matplotlib inline\n",
        "\n",
        "import numpy as np\n",
        "import matplotlib.pyplot as plt\n",
        "import os\n",
        "import pdb\n",
        "\n",
        "import sklearn  # scikit-learn\n",
        "import torch\n",
        "\n",
        "# import pytorch modules\n",
        "import torch.nn as nn\n",
        "import torch.optim as optim\n",
        "print(torch.__version__)\n",
        "\n",
        "from torch.utils.data import TensorDataset, DataLoader\n",
        "import torch.nn.functional as F\n",
        "\n",
        "from tqdm import tqdm"
      ]
    },
    {
      "cell_type": "markdown",
      "metadata": {
        "id": "3D7JMFlQDGRp"
      },
      "source": [
        "## 3- Coding a Multi-Layer Perceptron with Pytorch"
      ]
    },
    {
      "cell_type": "code",
      "execution_count": null,
      "metadata": {
        "colab": {
          "base_uri": "https://localhost:8080/",
          "height": 718
        },
        "id": "Y4cPmk8oDGRp",
        "outputId": "a0c42f1d-f29e-48bc-da32-f458bf12a2f3"
      },
      "outputs": [
        {
          "data": {
            "image/png": "[encoded data removed]",
            "text/plain": [
              "<Figure size 800x800 with 1 Axes>"
            ]
          },
          "metadata": {},
          "output_type": "display_data"
        }
      ],
      "source": [
        "from sklearn import datasets\n",
        "from sklearn.preprocessing import MinMaxScaler\n",
        "from sklearn.model_selection import train_test_split\n",
        "import matplotlib.pyplot as plt\n",
        "import numpy as np\n",
        "\n",
        "X, Y = datasets.make_circles(n_samples=1000, noise=0.05, factor=0.5)\n",
        "\n",
        "\n",
        "scaler = MinMaxScaler()\n",
        "X = scaler.fit_transform(X)\n",
        "\n",
        "\n",
        "\n",
        "plt.figure(figsize=(8, 8))\n",
        "plt.title(\"Normalized Two-Circles Dataset\")\n",
        "plt.scatter(X[Y==0, 0], X[Y==0, 1], color='r', label='Class 0')\n",
        "plt.scatter(X[Y==1, 0], X[Y==1, 1], color='b', label='Class 1')\n",
        "plt.xlabel(\"Feature 1 (Normalized)\")\n",
        "plt.ylabel(\"Feature 2 (Normalized)\")\n",
        "plt.legend()\n",
        "plt.axis('equal')\n",
        "plt.grid(True)\n",
        "plt.show()\n"
      ]
    },
    {
      "cell_type": "code",
      "execution_count": null,
      "metadata": {
        "colab": {
          "base_uri": "https://localhost:8080/"
        },
        "id": "sJpYLif3DGRq",
        "outputId": "0b9ebe9d-3cca-4975-a433-2986ccc54a81"
      },
      "outputs": [
        {
          "name": "stdout",
          "output_type": "stream",
          "text": [
            "X_train shape: (800, 2)\n",
            "Y_train shape: (800,)\n",
            "X_test shape: (200, 2)\n",
            "Y_test shape: (200,)\n"
          ]
        }
      ],
      "source": [
        "\n",
        "X_train, X_test, Y_train, Y_test = train_test_split(\n",
        "    X, Y, test_size=0.2, random_state=42\n",
        ")\n",
        "\n",
        "print(f\"X_train shape: {X_train.shape}\")\n",
        "print(f\"Y_train shape: {Y_train.shape}\")\n",
        "print(f\"X_test shape: {X_test.shape}\")\n",
        "print(f\"Y_test shape: {Y_test.shape}\")\n"
      ]
    },
    {
      "cell_type": "markdown",
      "metadata": {
        "id": "ubENeDgJDGRq"
      },
      "source": [
        "Finally, we need to create `torch.utils.data.Dataset` objects from these numpy datasets. These datasets are Pytorch objects, which typically implement a `get_item(i)` method which manages the retrieval of the i-th item in the dataset, and return it as a torch `Tensor` object (or tuple thereof).\n",
        "\n",
        "A useful subclass for us is `TensorDataset`, which does the magic under the hood for us for this simple case where we have data points and labels already available:"
      ]
    },
    {
      "cell_type": "code",
      "execution_count": null,
      "metadata": {
        "colab": {
          "base_uri": "https://localhost:8080/"
        },
        "id": "EOky7hkSDGRq",
        "outputId": "6f45dae1-cc2c-416f-a9c1-700c101a9b5b"
      },
      "outputs": [
        {
          "name": "stdout",
          "output_type": "stream",
          "text": [
            "Sample from training dataset:\n",
            "(tensor([0.9585, 0.4921]), tensor([0.]))\n"
          ]
        }
      ],
      "source": [
        "import torch\n",
        "from torch.utils.data import TensorDataset\n",
        "\n",
        "training_dataset = TensorDataset(torch.tensor(X_train).float(),\n",
        "                                 torch.unsqueeze(torch.tensor(Y_train), -1).float())\n",
        "\n",
        "test_dataset = TensorDataset(torch.tensor(X_test).float(),\n",
        "                             torch.unsqueeze(torch.tensor(Y_test), -1).float())\n",
        "\n",
        "print(\"Sample from training dataset:\")\n",
        "print(training_dataset[0])\n"
      ]
    },
    {
      "cell_type": "markdown",
      "metadata": {
        "id": "bhVzv8ZIDGRq"
      },
      "source": [
        "We will use the GPU if it is available on your machine, otherwise the CPU. We do so by putting the model and data on the active device with `.to(device)`."
      ]
    },
    {
      "cell_type": "code",
      "execution_count": null,
      "metadata": {
        "colab": {
          "base_uri": "https://localhost:8080/"
        },
        "id": "IWQyWaseDGRq",
        "outputId": "0df5af0b-e86b-40f7-da42-3446f3b4af4c"
      },
      "outputs": [
        {
          "name": "stdout",
          "output_type": "stream",
          "text": [
            "cpu\n"
          ]
        }
      ],
      "source": [
        "device = torch.device(\"cuda:0\" if torch.cuda.is_available() else \"cpu\")\n",
        "print(device)"
      ]
    },
    {
      "cell_type": "markdown",
      "metadata": {
        "id": "y-xuU83IDGRq"
      },
      "source": [
        "# Creating the MLP with Pytorch : Architecture\n",
        "\n",
        "We are now going to create an MLP with pytorch. We will start with an MLP with one hidden layer. The network should consist of the following operations, in the following order :\n",
        "\n",
        "- Fully connected layer (with biases), mapping the input data (2D) to `n_hidden` neurons, using `nn.Linear(...)`\n",
        "- ReLU activation, using `nn.ReLu()`\n",
        "- Fully connected layer (with biases), mapping the hidden layer to the output layer with 1 neuron\n",
        "- Sigmoid output activation, using `nn.Sigmoid()`\n",
        "\n",
        "We are going to be solving a binary classification problem, so the output of the network should be a scalar between 0 and 1 (thus the last Sigmoid activation function)."
      ]
    },
    {
      "cell_type": "code",
      "execution_count": null,
      "metadata": {
        "id": "Kzerp2euDGRq"
      },
      "outputs": [],
      "source": [
        "n_input = 2\n",
        "n_hidden = 50\n",
        "n_output = 1"
      ]
    },
    {
      "cell_type": "code",
      "execution_count": null,
      "metadata": {
        "id": "G4fvmxF7DGRq"
      },
      "outputs": [],
      "source": [
        "class MLP(nn.Module):\n",
        "\n",
        "  def __init__(self, n_input, n_hidden, n_output):\n",
        "    super().__init__()\n",
        "\n",
        "    self.linear1 = nn.Linear(n_input, n_hidden)\n",
        "    self.linear2 = nn.Linear(n_hidden, n_output)\n",
        "\n",
        "  def forward(self, x):\n",
        "    x = F.relu(self.linear1(x))\n",
        "    x = torch.sigmoid(self.linear2(x))\n",
        "\n",
        "    return x"
      ]
    },
    {
      "cell_type": "code",
      "execution_count": null,
      "metadata": {
        "id": "FIoA06ISDGRr"
      },
      "outputs": [],
      "source": [
        "sequential = True\n",
        "\n",
        "if sequential:\n",
        "  model = nn.Sequential(MLP(n_input, n_hidden, n_output))\n",
        "  sequential = False\n",
        "else:\n",
        "  model = MLP(n_input, n_hidden, n_output)\n",
        "\n",
        "model = model.to(device)"
      ]
    },
    {
      "cell_type": "markdown",
      "metadata": {
        "id": "CzLxlEDNDGRr"
      },
      "source": [
        "# Training the model"
      ]
    },
    {
      "cell_type": "markdown",
      "metadata": {
        "id": "WJaAotS_DGRr"
      },
      "source": [
        "We are now going to train the model itself. First, we need to define model parameters (batch size, number of epochs, etc.). Then we will define the loss, the optimizer and start the training."
      ]
    },
    {
      "cell_type": "code",
      "execution_count": null,
      "metadata": {
        "id": "oBlTm8tMDGRr"
      },
      "outputs": [],
      "source": [
        "learning_rate = 0.01\n",
        "n_epochs = 30\n",
        "batch_size = 64"
      ]
    },
    {
      "cell_type": "markdown",
      "metadata": {
        "id": "C5MF7HynDGRs"
      },
      "source": [
        "We will use the binary cross entropy loss from Pytorch. For now, we instantiate an `nn.BCELoss()` object. We will call it during the training on specific outputs $\\hat{y}$ and ground truth values $y$.\n",
        "\n",
        "Use the argument `reduction='sum'` for compatibility with my code below (it corresponds to one of several possible ways to aggregate the individual losses from individual data points)."
      ]
    },
    {
      "cell_type": "code",
      "execution_count": null,
      "metadata": {
        "id": "j0wjh9CiDGRs"
      },
      "outputs": [],
      "source": [
        "criterion = nn.BCELoss(reduction='sum')"
      ]
    },
    {
      "cell_type": "markdown",
      "metadata": {
        "id": "n_kfPdV8DGRs"
      },
      "source": [
        "We now define the optimizer. We use the Adam optimizer from `optim.Adam`, passing `model.parameters()` as trainable parameters and setting the learning rate to `learning_rate`:"
      ]
    },
    {
      "cell_type": "code",
      "execution_count": null,
      "metadata": {
        "id": "FHytoE2lDGRs"
      },
      "outputs": [],
      "source": [
        "optimizer = optim.Adam(model.parameters(), lr=learning_rate)"
      ]
    },
    {
      "cell_type": "markdown",
      "metadata": {
        "id": "EWOus1L6DGRs"
      },
      "source": [
        "Finally, we need to define a `DataLoader`. It takes as input the torch dataset, the batch size, and a number of optional arguments. The dataloader is responsible for creating minibatches for the training (and/or for the inference/test-time).\n",
        "\n",
        "It is a highly customizable process that relies on a `sampler`. The default sampler (when you do not specify a particular sampler) just samples data points uniformly at random from the full batch to create the minibatch. This default behaviour is very often good enough. We do not worry about this for today and rely on this default behaviour."
      ]
    },
    {
      "cell_type": "code",
      "execution_count": null,
      "metadata": {
        "id": "vOZPw0KmDGRs"
      },
      "outputs": [],
      "source": [
        "training_loader = DataLoader(training_dataset, batch_size =  batch_size, shuffle = True, drop_last = False)\n",
        "test_loader = DataLoader(test_dataset, batch_size = batch_size, shuffle = False, drop_last = False)"
      ]
    },
    {
      "cell_type": "markdown",
      "metadata": {
        "id": "ccv5WcjQDGRs"
      },
      "source": [
        "We can now move on to the main training loop. It iterates over the dataset for a number of epochs. Each epoch involves a number of iterations: at each iteration, a minibatch is processed and the iteration culminates in a parameter update."
      ]
    },
    {
      "cell_type": "code",
      "execution_count": null,
      "metadata": {
        "id": "pGL4NSTFDGRt"
      },
      "outputs": [],
      "source": [
        "def prediction_accuracy(predict, labels):\n",
        "    preds = (predict > 0.5).astype(float)\n",
        "    return (preds == labels).mean()"
      ]
    },
    {
      "cell_type": "code",
      "execution_count": null,
      "metadata": {
        "colab": {
          "base_uri": "https://localhost:8080/"
        },
        "id": "IctBMNE7DGRt",
        "outputId": "9257ea65-d8d4-42ad-90d8-61b32e87700a"
      },
      "outputs": [
        {
          "name": "stderr",
          "output_type": "stream",
          "text": [
            "Epoch 0: 100%|██████████| 13/13 [00:00<00:00, 151.90batch/s]\n"
          ]
        },
        {
          "name": "stdout",
          "output_type": "stream",
          "text": [
            "Epoch 0: Train Loss: 0.6880\n",
            "Epoch 0: Train Accuracy: 49.75%\n"
          ]
        },
        {
          "name": "stderr",
          "output_type": "stream",
          "text": [
            "Epoch 1: 100%|██████████| 13/13 [00:00<00:00, 190.27batch/s]\n"
          ]
        },
        {
          "name": "stdout",
          "output_type": "stream",
          "text": [
            "Epoch 1: Train Loss: 0.6674\n",
            "Epoch 1: Train Accuracy: 64.25%\n"
          ]
        },
        {
          "name": "stderr",
          "output_type": "stream",
          "text": [
            "Epoch 2: 100%|██████████| 13/13 [00:00<00:00, 272.62batch/s]\n"
          ]
        },
        {
          "name": "stdout",
          "output_type": "stream",
          "text": [
            "Epoch 2: Train Loss: 0.6490\n",
            "Epoch 2: Train Accuracy: 77.75%\n"
          ]
        },
        {
          "name": "stderr",
          "output_type": "stream",
          "text": [
            "Epoch 3: 100%|██████████| 13/13 [00:00<00:00, 282.62batch/s]\n"
          ]
        },
        {
          "name": "stdout",
          "output_type": "stream",
          "text": [
            "Epoch 3: Train Loss: 0.6269\n",
            "Epoch 3: Train Accuracy: 77.12%\n"
          ]
        },
        {
          "name": "stderr",
          "output_type": "stream",
          "text": [
            "Epoch 4: 100%|██████████| 13/13 [00:00<00:00, 251.63batch/s]\n"
          ]
        },
        {
          "name": "stdout",
          "output_type": "stream",
          "text": [
            "Epoch 4: Train Loss: 0.5976\n",
            "Epoch 4: Train Accuracy: 89.38%\n"
          ]
        },
        {
          "name": "stderr",
          "output_type": "stream",
          "text": [
            "Epoch 5: 100%|██████████| 13/13 [00:00<00:00, 280.91batch/s]\n"
          ]
        },
        {
          "name": "stdout",
          "output_type": "stream",
          "text": [
            "Epoch 5: Train Loss: 0.5635\n",
            "Epoch 5: Train Accuracy: 96.62%\n"
          ]
        },
        {
          "name": "stderr",
          "output_type": "stream",
          "text": [
            "Epoch 6: 100%|██████████| 13/13 [00:00<00:00, 299.21batch/s]\n"
          ]
        },
        {
          "name": "stdout",
          "output_type": "stream",
          "text": [
            "Epoch 6: Train Loss: 0.5250\n",
            "Epoch 6: Train Accuracy: 100.00%\n"
          ]
        },
        {
          "name": "stderr",
          "output_type": "stream",
          "text": [
            "Epoch 7: 100%|██████████| 13/13 [00:00<00:00, 193.68batch/s]\n"
          ]
        },
        {
          "name": "stdout",
          "output_type": "stream",
          "text": [
            "Epoch 7: Train Loss: 0.4842\n",
            "Epoch 7: Train Accuracy: 99.88%\n"
          ]
        },
        {
          "name": "stderr",
          "output_type": "stream",
          "text": [
            "Epoch 8: 100%|██████████| 13/13 [00:00<00:00, 152.22batch/s]\n"
          ]
        },
        {
          "name": "stdout",
          "output_type": "stream",
          "text": [
            "Epoch 8: Train Loss: 0.4399\n",
            "Epoch 8: Train Accuracy: 99.88%\n"
          ]
        },
        {
          "name": "stderr",
          "output_type": "stream",
          "text": [
            "Epoch 9: 100%|██████████| 13/13 [00:00<00:00, 173.64batch/s]\n"
          ]
        },
        {
          "name": "stdout",
          "output_type": "stream",
          "text": [
            "Epoch 9: Train Loss: 0.3995\n",
            "Epoch 9: Train Accuracy: 99.38%\n"
          ]
        },
        {
          "name": "stderr",
          "output_type": "stream",
          "text": [
            "Epoch 10: 100%|██████████| 13/13 [00:00<00:00, 201.92batch/s]\n"
          ]
        },
        {
          "name": "stdout",
          "output_type": "stream",
          "text": [
            "Epoch 10: Train Loss: 0.3605\n",
            "Epoch 10: Train Accuracy: 99.75%\n"
          ]
        },
        {
          "name": "stderr",
          "output_type": "stream",
          "text": [
            "Epoch 11: 100%|██████████| 13/13 [00:00<00:00, 187.40batch/s]\n"
          ]
        },
        {
          "name": "stdout",
          "output_type": "stream",
          "text": [
            "Epoch 11: Train Loss: 0.3204\n",
            "Epoch 11: Train Accuracy: 100.00%\n"
          ]
        },
        {
          "name": "stderr",
          "output_type": "stream",
          "text": [
            "Epoch 12: 100%|██████████| 13/13 [00:00<00:00, 185.76batch/s]\n"
          ]
        },
        {
          "name": "stdout",
          "output_type": "stream",
          "text": [
            "Epoch 12: Train Loss: 0.2847\n",
            "Epoch 12: Train Accuracy: 100.00%\n"
          ]
        },
        {
          "name": "stderr",
          "output_type": "stream",
          "text": [
            "Epoch 13: 100%|██████████| 13/13 [00:00<00:00, 121.93batch/s]\n"
          ]
        },
        {
          "name": "stdout",
          "output_type": "stream",
          "text": [
            "Epoch 13: Train Loss: 0.2532\n",
            "Epoch 13: Train Accuracy: 100.00%\n"
          ]
        },
        {
          "name": "stderr",
          "output_type": "stream",
          "text": [
            "Epoch 14: 100%|██████████| 13/13 [00:00<00:00, 188.80batch/s]\n"
          ]
        },
        {
          "name": "stdout",
          "output_type": "stream",
          "text": [
            "Epoch 14: Train Loss: 0.2240\n",
            "Epoch 14: Train Accuracy: 100.00%\n"
          ]
        },
        {
          "name": "stderr",
          "output_type": "stream",
          "text": [
            "Epoch 15: 100%|██████████| 13/13 [00:00<00:00, 107.54batch/s]\n"
          ]
        },
        {
          "name": "stdout",
          "output_type": "stream",
          "text": [
            "Epoch 15: Train Loss: 0.2002\n",
            "Epoch 15: Train Accuracy: 100.00%\n"
          ]
        },
        {
          "name": "stderr",
          "output_type": "stream",
          "text": [
            "Epoch 16: 100%|██████████| 13/13 [00:00<00:00, 100.80batch/s]\n"
          ]
        },
        {
          "name": "stdout",
          "output_type": "stream",
          "text": [
            "Epoch 16: Train Loss: 0.1770\n",
            "Epoch 16: Train Accuracy: 100.00%\n"
          ]
        },
        {
          "name": "stderr",
          "output_type": "stream",
          "text": [
            "Epoch 17: 100%|██████████| 13/13 [00:00<00:00, 104.63batch/s]\n"
          ]
        },
        {
          "name": "stdout",
          "output_type": "stream",
          "text": [
            "Epoch 17: Train Loss: 0.1586\n",
            "Epoch 17: Train Accuracy: 100.00%\n"
          ]
        },
        {
          "name": "stderr",
          "output_type": "stream",
          "text": [
            "Epoch 18: 100%|██████████| 13/13 [00:00<00:00, 120.93batch/s]\n"
          ]
        },
        {
          "name": "stdout",
          "output_type": "stream",
          "text": [
            "Epoch 18: Train Loss: 0.1413\n",
            "Epoch 18: Train Accuracy: 100.00%\n"
          ]
        },
        {
          "name": "stderr",
          "output_type": "stream",
          "text": [
            "Epoch 19: 100%|██████████| 13/13 [00:00<00:00, 95.54batch/s]\n"
          ]
        },
        {
          "name": "stdout",
          "output_type": "stream",
          "text": [
            "Epoch 19: Train Loss: 0.1263\n",
            "Epoch 19: Train Accuracy: 100.00%\n"
          ]
        },
        {
          "name": "stderr",
          "output_type": "stream",
          "text": [
            "Epoch 20: 100%|██████████| 13/13 [00:00<00:00, 154.84batch/s]\n"
          ]
        },
        {
          "name": "stdout",
          "output_type": "stream",
          "text": [
            "Epoch 20: Train Loss: 0.1142\n",
            "Epoch 20: Train Accuracy: 100.00%\n"
          ]
        },
        {
          "name": "stderr",
          "output_type": "stream",
          "text": [
            "Epoch 21: 100%|██████████| 13/13 [00:00<00:00, 121.17batch/s]\n"
          ]
        },
        {
          "name": "stdout",
          "output_type": "stream",
          "text": [
            "Epoch 21: Train Loss: 0.1043\n",
            "Epoch 21: Train Accuracy: 100.00%\n"
          ]
        },
        {
          "name": "stderr",
          "output_type": "stream",
          "text": [
            "Epoch 22: 100%|██████████| 13/13 [00:00<00:00, 163.70batch/s]\n"
          ]
        },
        {
          "name": "stdout",
          "output_type": "stream",
          "text": [
            "Epoch 22: Train Loss: 0.0939\n",
            "Epoch 22: Train Accuracy: 100.00%\n"
          ]
        },
        {
          "name": "stderr",
          "output_type": "stream",
          "text": [
            "Epoch 23: 100%|██████████| 13/13 [00:00<00:00, 103.70batch/s]\n"
          ]
        },
        {
          "name": "stdout",
          "output_type": "stream",
          "text": [
            "Epoch 23: Train Loss: 0.0849\n",
            "Epoch 23: Train Accuracy: 100.00%\n"
          ]
        },
        {
          "name": "stderr",
          "output_type": "stream",
          "text": [
            "Epoch 24: 100%|██████████| 13/13 [00:00<00:00, 93.90batch/s]\n"
          ]
        },
        {
          "name": "stdout",
          "output_type": "stream",
          "text": [
            "Epoch 24: Train Loss: 0.0782\n",
            "Epoch 24: Train Accuracy: 100.00%\n"
          ]
        },
        {
          "name": "stderr",
          "output_type": "stream",
          "text": [
            "Epoch 25: 100%|██████████| 13/13 [00:00<00:00, 75.32batch/s]\n"
          ]
        },
        {
          "name": "stdout",
          "output_type": "stream",
          "text": [
            "Epoch 25: Train Loss: 0.0711\n",
            "Epoch 25: Train Accuracy: 100.00%\n"
          ]
        },
        {
          "name": "stderr",
          "output_type": "stream",
          "text": [
            "Epoch 26: 100%|██████████| 13/13 [00:00<00:00, 75.05batch/s]\n"
          ]
        },
        {
          "name": "stdout",
          "output_type": "stream",
          "text": [
            "Epoch 26: Train Loss: 0.0652\n",
            "Epoch 26: Train Accuracy: 100.00%\n"
          ]
        },
        {
          "name": "stderr",
          "output_type": "stream",
          "text": [
            "Epoch 27: 100%|██████████| 13/13 [00:00<00:00, 58.32batch/s]\n"
          ]
        },
        {
          "name": "stdout",
          "output_type": "stream",
          "text": [
            "Epoch 27: Train Loss: 0.0600\n",
            "Epoch 27: Train Accuracy: 100.00%\n"
          ]
        },
        {
          "name": "stderr",
          "output_type": "stream",
          "text": [
            "Epoch 28: 100%|██████████| 13/13 [00:00<00:00, 77.04batch/s] \n"
          ]
        },
        {
          "name": "stdout",
          "output_type": "stream",
          "text": [
            "Epoch 28: Train Loss: 0.0561\n",
            "Epoch 28: Train Accuracy: 100.00%\n"
          ]
        },
        {
          "name": "stderr",
          "output_type": "stream",
          "text": [
            "Epoch 29: 100%|██████████| 13/13 [00:00<00:00, 118.05batch/s]"
          ]
        },
        {
          "name": "stdout",
          "output_type": "stream",
          "text": [
            "Epoch 29: Train Loss: 0.0521\n",
            "Epoch 29: Train Accuracy: 100.00%\n"
          ]
        },
        {
          "name": "stderr",
          "output_type": "stream",
          "text": [
            "\n"
          ]
        }
      ],
      "source": [
        "\n",
        "model.train()\n",
        "\n",
        "\n",
        "for epoch in range(n_epochs):\n",
        "    train_loss = 0.0\n",
        "    all_labels = []\n",
        "    all_predicted = []\n",
        "\n",
        "    with tqdm(training_loader, unit=\"batch\") as tepoch:\n",
        "        for data, labels in tepoch:\n",
        "            tepoch.set_description(f\"Epoch {epoch}\")\n",
        "\n",
        "            data = data.to(device)\n",
        "            labels = labels.to(device)\n",
        "\n",
        "            outputs = model(data)\n",
        "\n",
        "            loss = criterion(outputs, labels)\n",
        "\n",
        "            optimizer.zero_grad()\n",
        "\n",
        "            loss.backward()\n",
        "\n",
        "            optimizer.step()\n",
        "            train_loss += loss.item()\n",
        "\n",
        "            all_labels.extend(labels.cpu().numpy().flatten())\n",
        "            all_predicted.extend(outputs.detach().cpu().numpy().flatten())\n",
        "\n",
        "    avg_train_loss = train_loss / len(training_loader.dataset)\n",
        "    train_accuracy = prediction_accuracy(np.array(all_predicted), np.array(all_labels))\n",
        "\n",
        "    print(f'Epoch {epoch}: Train Loss: {avg_train_loss:.4f}')\n",
        "    print(f'Epoch {epoch}: Train Accuracy: {train_accuracy * 100:.2f}%')\n"
      ]
    },
    {
      "cell_type": "markdown",
      "metadata": {
        "id": "biE11hCvDGRt"
      },
      "source": [
        "# Testing the model"
      ]
    },
    {
      "cell_type": "markdown",
      "metadata": {
        "id": "2juini8PDGRt"
      },
      "source": [
        "Let us now visualize the decision function and compute the test accuracy for the model."
      ]
    },
    {
      "cell_type": "code",
      "execution_count": null,
      "metadata": {
        "colab": {
          "base_uri": "https://localhost:8080/"
        },
        "id": "MgaufA1mDGRt",
        "outputId": "c01f50c6-bc6b-463c-adba-5885bda69a52"
      },
      "outputs": [
        {
          "name": "stderr",
          "output_type": "stream",
          "text": [
            "100%|██████████| 4/4 [00:00<00:00, 748.41batch/s]"
          ]
        },
        {
          "name": "stdout",
          "output_type": "stream",
          "text": [
            "\n",
            "Test Accuracy: 1.0\n"
          ]
        },
        {
          "name": "stderr",
          "output_type": "stream",
          "text": [
            "\n"
          ]
        }
      ],
      "source": [
        "model.eval()\n",
        "\n",
        "all_predicted = []\n",
        "all_labels = []\n",
        "\n",
        "with tqdm(test_loader, unit=\"batch\") as tepoch:\n",
        "  for data, labels in tepoch:\n",
        "    all_labels.extend(labels.tolist())\n",
        "\n",
        "    data = data.to(device)\n",
        "    y_predict = model(data)\n",
        "    all_predicted.extend((y_predict>=0.5).tolist())\n",
        "\n",
        "test_accuracy = prediction_accuracy(np.array(all_predicted),np.array(all_labels))\n",
        "\n",
        "print(\"\\nTest Accuracy:\", test_accuracy)"
      ]
    },
    {
      "cell_type": "markdown",
      "metadata": {
        "id": "lPa2pEIbDGRt"
      },
      "source": [
        "Here is a function that shows the decision boundary of our network. This works only for 2D input data:"
      ]
    },
    {
      "cell_type": "code",
      "execution_count": null,
      "metadata": {
        "id": "WBI2BEyIDGRt"
      },
      "outputs": [],
      "source": [
        "\n",
        "\n",
        "def plot_decision_function_2d(model, X, Y):\n",
        "    h = .02\n",
        "    offset = 0.1\n",
        "    x_min, x_max = X[:, 0].min() - offset, X[:, 0].max() + offset\n",
        "    y_min, y_max = X[:, 1].min() - offset, X[:, 1].max() + offset\n",
        "    xx, yy = np.meshgrid(np.arange(x_min, x_max, h),\n",
        "                         np.arange(y_min, y_max, h))\n",
        "\n",
        "    Z = model(torch.tensor(np.c_[xx.ravel(), yy.ravel()]).float().to(device)).detach().cpu().numpy()\n",
        "    Z = Z<0.5\n",
        "\n",
        "    Z = Z.reshape(xx.shape)\n",
        "    plt.figure()\n",
        "    plt.contourf(xx, yy, Z, cmap=plt.cm.Paired)\n",
        "\n",
        "    plt.plot(X[Y == 1, 0], X[Y == 1, 1], 'yo')\n",
        "    plt.plot(X[Y == 0, 0], X[Y == 0, 1], 'ko')\n",
        "\n",
        "    plt.title(\"Decision surface\")\n",
        "    plt.axis('tight')"
      ]
    },
    {
      "cell_type": "code",
      "execution_count": null,
      "metadata": {
        "colab": {
          "base_uri": "https://localhost:8080/",
          "height": 452
        },
        "id": "Kf7IdVSQDGRt",
        "outputId": "0161b451-d415-4ca3-b61f-4d63b74d82ee"
      },
      "outputs": [
        {
          "data": {
            "image/png": "[encoded data removed]",
            "text/plain": [
              "<Figure size 640x480 with 1 Axes>"
            ]
          },
          "metadata": {},
          "output_type": "display_data"
        }
      ],
      "source": [
        "plot_decision_function_2d(model, X_test, Y_test)"
      ]
    },
    {
      "cell_type": "markdown",
      "metadata": {
        "id": "PhC6rdmNDGRt"
      },
      "source": [
        "# 4 - MLP with several hidden layers, on MNIST\n",
        "\n",
        "We are now going to create an MLP with several hidden layers. We are going to use a more complicated dataset : the MNIST dataset, which contains images of handwritten digits. There are 10 classes, one for each digit.\n",
        "\n",
        "We are going to implement the following architecture :\n",
        "\n",
        "- Fully connected layer, mapping from `n_input` to `n_hidden_1` neurons\n",
        "- Relu activation\n",
        "- Fully connected layer, mapping from `n_hidden_1` to `n_hidden_2` neurons\n",
        "- Relu activation\n",
        "- Fully connected layer, mapping from `n_hidden_2` to `n_hidden_3` neurons\n",
        "- Relu activation\n",
        "- Fully connected layer, mapping from `n_hidden_3` to `n_output` (=10) neurons\n",
        "\n",
        "__IMPORTANT Note__ The sigmoid layer has been removed. Ideally, we should have replaced it by a softmax layer (at the end) since we have a multi-class problem. However, this softmax activation is already present in the loss ```nn.CrossEntropyLoss()```. This is why we don't have to put one here. The unnormalized outputs before this softmax are called logits. Hence, the network outputs logits."
      ]
    },
    {
      "cell_type": "code",
      "execution_count": null,
      "metadata": {
        "colab": {
          "base_uri": "https://localhost:8080/"
        },
        "id": "-jzcFj0SDGRu",
        "outputId": "6f65f775-2e17-4809-e750-ed6e30af411d"
      },
      "outputs": [
        {
          "name": "stdout",
          "output_type": "stream",
          "text": [
            "Shape of one training image: torch.Size([1, 28, 28])\n",
            "Label of one training image: 5\n"
          ]
        }
      ],
      "source": [
        "\n",
        "import torchvision\n",
        "import torch.nn as nn\n",
        "import torch.optim as optim\n",
        "from torch.utils.data import DataLoader\n",
        "import torchvision.transforms as transforms\n",
        "import torch\n",
        "\n",
        "transform = transforms.Compose([\n",
        "    transforms.ToTensor(),\n",
        "    transforms.Normalize((0.5,), (0.5,)),\n",
        "])\n",
        "\n",
        "trainset = torchvision.datasets.MNIST(root='./data', train=True,\n",
        "                                        download=True, transform=transform)\n",
        "\n",
        "testset = torchvision.datasets.MNIST(root='./data', train=False,\n",
        "                                       download=True, transform=transform)\n",
        "\n",
        "# You can check the shape of a single data point\n",
        "print(f\"Shape of one training image: {trainset[0][0].shape}\")\n",
        "print(f\"Label of one training image: {trainset[0][1]}\")\n"
      ]
    },
    {
      "cell_type": "markdown",
      "metadata": {
        "id": "0n0OEV-UDGRu"
      },
      "source": [
        "Note that here, we have defined transforms and passed them as argument when creating the dataset. These transforms will be called systematically in the `get_item` method implemented in the dataset, modifying each image before returning it. Here we use this tool to format and normalize input images.\n",
        "\n",
        "The same process could be used to apply random augmentations to the input images (for data augmentations), by composing with functions that apply random transforms."
      ]
    },
    {
      "cell_type": "code",
      "execution_count": null,
      "metadata": {
        "colab": {
          "base_uri": "https://localhost:8080/"
        },
        "id": "R7Ft0UBlDGRu",
        "outputId": "abb35801-ca0e-45ed-b33b-b4eb87ac7e88"
      },
      "outputs": [
        {
          "name": "stdout",
          "output_type": "stream",
          "text": [
            "cpu\n"
          ]
        }
      ],
      "source": [
        "device = torch.device(\"cuda:0\" if torch.cuda.is_available() else \"cpu\")\n",
        "print(device)"
      ]
    },
    {
      "cell_type": "markdown",
      "metadata": {
        "id": "9A4CB214DGRu"
      },
      "source": [
        "MLP architecture, via sequential API:"
      ]
    },
    {
      "cell_type": "code",
      "execution_count": null,
      "metadata": {
        "id": "w1ECQQi4DGRu"
      },
      "outputs": [],
      "source": [
        "n_hidden_1 = 256 \n",
        "n_hidden_2 = 256 \n",
        "n_hidden_3 = 128 \n",
        "\n",
        "\n",
        "n_input = 784\n",
        "n_output = 10"
      ]
    },
    {
      "cell_type": "code",
      "execution_count": null,
      "metadata": {
        "id": "CSlIy3RyDGRu"
      },
      "outputs": [],
      "source": [
        "\n",
        "model_multi_layer = nn.Sequential(\n",
        "    nn.Flatten(),\n",
        "    nn.Linear(n_input, n_hidden_1),\n",
        "    nn.ReLU(),\n",
        "    nn.Linear(n_hidden_1, n_hidden_2),\n",
        "    nn.ReLU(),\n",
        "    nn.Linear(n_hidden_2, n_hidden_3),\n",
        "    nn.ReLU(),\n",
        "    nn.Linear(n_hidden_3, n_output)\n",
        ")"
      ]
    },
    {
      "cell_type": "code",
      "execution_count": null,
      "metadata": {
        "colab": {
          "base_uri": "https://localhost:8080/"
        },
        "id": "Dw-7jOvbDGRv",
        "outputId": "8dc8a375-54be-4317-d6d0-0562b6f1ae3b"
      },
      "outputs": [
        {
          "name": "stdout",
          "output_type": "stream",
          "text": [
            "Sequential(\n",
            "  (0): Flatten(start_dim=1, end_dim=-1)\n",
            "  (1): Linear(in_features=784, out_features=256, bias=True)\n",
            "  (2): ReLU()\n",
            "  (3): Linear(in_features=256, out_features=256, bias=True)\n",
            "  (4): ReLU()\n",
            "  (5): Linear(in_features=256, out_features=128, bias=True)\n",
            "  (6): ReLU()\n",
            "  (7): Linear(in_features=128, out_features=10, bias=True)\n",
            ")\n"
          ]
        }
      ],
      "source": [
        "model_multi_layer = model_multi_layer.to(device)\n",
        "print(model_multi_layer)"
      ]
    },
    {
      "cell_type": "markdown",
      "metadata": {
        "id": "WGlex_MjDGRv"
      },
      "source": [
        "Let us move on to the training. You need to define the loss using the instructions above, and the optimizer as usual. For the loss, use the argument `reduction='sum'` as before for compatibility with my code."
      ]
    },
    {
      "cell_type": "code",
      "execution_count": null,
      "metadata": {
        "id": "F96hhRzZDGRv"
      },
      "outputs": [],
      "source": [
        "learning_rate = 0.01\n",
        "n_epochs = 20\n",
        "batch_size = 64"
      ]
    },
    {
      "cell_type": "code",
      "execution_count": null,
      "metadata": {
        "id": "Nt5lrTg6DGRv"
      },
      "outputs": [],
      "source": [
        "criterion = nn.CrossEntropyLoss(reduction='sum')\n",
        "optimizer = optim.Adam(model_multi_layer.parameters(), lr=learning_rate)"
      ]
    },
    {
      "cell_type": "code",
      "execution_count": null,
      "metadata": {
        "id": "rgbmXGlNDGRv"
      },
      "outputs": [],
      "source": [
        "training_loader = DataLoader(trainset, batch_size=batch_size, shuffle=True)\n",
        "test_loader = DataLoader(testset, batch_size=batch_size, shuffle=False)"
      ]
    },
    {
      "cell_type": "markdown",
      "metadata": {
        "id": "P0SsvVs0DGRv"
      },
      "source": [
        "Now comes the main loop for the training and testing:"
      ]
    },
    {
      "cell_type": "code",
      "execution_count": null,
      "metadata": {
        "id": "WJ1vAHDdDGRv"
      },
      "outputs": [],
      "source": [
        "from tqdm import tqdm\n",
        "import numpy as np\n",
        "\n",
        "def vector_to_class(x):\n",
        "    \"\"\"Converts a batch of logit vectors to a batch of predicted class indices.\"\"\"\n",
        "    return torch.max(x, 1)[1]\n",
        "\n",
        "def prediction_accuracy(predict, labels):\n",
        "    \"\"\"Calculates accuracy for a batch of predictions and labels.\"\"\"\n",
        "    correct = (predict == labels).sum().item()\n",
        "    total = len(labels)\n",
        "    return correct / total"
      ]
    },
    {
      "cell_type": "markdown",
      "metadata": {
        "id": "njz59HrADGRv"
      },
      "source": [
        "Train the model."
      ]
    },
    {
      "cell_type": "code",
      "execution_count": null,
      "metadata": {
        "colab": {
          "base_uri": "https://localhost:8080/"
        },
        "id": "gfSQkm6BDGRv",
        "outputId": "a3d993c2-b0cf-49d7-bb4e-7897b2905e62"
      },
      "outputs": [
        {
          "name": "stderr",
          "output_type": "stream",
          "text": [
            "Epoch 0: 100%|██████████| 938/938 [00:29<00:00, 32.04batch/s, accuracy=86.3, loss=0.444]\n"
          ]
        },
        {
          "name": "stdout",
          "output_type": "stream",
          "text": [
            "Epoch 0: Train Loss: 0.4437, Train Accuracy: 86.28%\n"
          ]
        },
        {
          "name": "stderr",
          "output_type": "stream",
          "text": [
            "Epoch 1: 100%|██████████| 938/938 [00:32<00:00, 28.56batch/s, accuracy=91.9, loss=0.282]\n"
          ]
        },
        {
          "name": "stdout",
          "output_type": "stream",
          "text": [
            "Epoch 1: Train Loss: 0.2816, Train Accuracy: 91.91%\n"
          ]
        },
        {
          "name": "stderr",
          "output_type": "stream",
          "text": [
            "Epoch 2: 100%|██████████| 938/938 [00:31<00:00, 29.42batch/s, accuracy=93, loss=0.251]\n"
          ]
        },
        {
          "name": "stdout",
          "output_type": "stream",
          "text": [
            "Epoch 2: Train Loss: 0.2511, Train Accuracy: 92.97%\n"
          ]
        },
        {
          "name": "stderr",
          "output_type": "stream",
          "text": [
            "Epoch 3: 100%|██████████| 938/938 [00:32<00:00, 28.79batch/s, accuracy=93, loss=0.256]\n"
          ]
        },
        {
          "name": "stdout",
          "output_type": "stream",
          "text": [
            "Epoch 3: Train Loss: 0.2564, Train Accuracy: 92.98%\n"
          ]
        },
        {
          "name": "stderr",
          "output_type": "stream",
          "text": [
            "Epoch 4: 100%|██████████| 938/938 [00:31<00:00, 29.42batch/s, accuracy=93.7, loss=0.235]\n"
          ]
        },
        {
          "name": "stdout",
          "output_type": "stream",
          "text": [
            "Epoch 4: Train Loss: 0.2353, Train Accuracy: 93.73%\n"
          ]
        },
        {
          "name": "stderr",
          "output_type": "stream",
          "text": [
            "Epoch 5: 100%|██████████| 938/938 [00:32<00:00, 28.79batch/s, accuracy=94.1, loss=0.226]\n"
          ]
        },
        {
          "name": "stdout",
          "output_type": "stream",
          "text": [
            "Epoch 5: Train Loss: 0.2256, Train Accuracy: 94.14%\n"
          ]
        },
        {
          "name": "stderr",
          "output_type": "stream",
          "text": [
            "Epoch 6: 100%|██████████| 938/938 [00:31<00:00, 29.43batch/s, accuracy=94.1, loss=0.23]\n"
          ]
        },
        {
          "name": "stdout",
          "output_type": "stream",
          "text": [
            "Epoch 6: Train Loss: 0.2299, Train Accuracy: 94.07%\n"
          ]
        },
        {
          "name": "stderr",
          "output_type": "stream",
          "text": [
            "Epoch 7: 100%|██████████| 938/938 [00:32<00:00, 28.97batch/s, accuracy=94.4, loss=0.218]\n"
          ]
        },
        {
          "name": "stdout",
          "output_type": "stream",
          "text": [
            "Epoch 7: Train Loss: 0.2180, Train Accuracy: 94.45%\n"
          ]
        },
        {
          "name": "stderr",
          "output_type": "stream",
          "text": [
            "Epoch 8: 100%|██████████| 938/938 [00:32<00:00, 29.19batch/s, accuracy=94.2, loss=0.23]\n"
          ]
        },
        {
          "name": "stdout",
          "output_type": "stream",
          "text": [
            "Epoch 8: Train Loss: 0.2298, Train Accuracy: 94.23%\n"
          ]
        },
        {
          "name": "stderr",
          "output_type": "stream",
          "text": [
            "Epoch 9: 100%|██████████| 938/938 [00:32<00:00, 28.86batch/s, accuracy=94.4, loss=0.214]\n"
          ]
        },
        {
          "name": "stdout",
          "output_type": "stream",
          "text": [
            "Epoch 9: Train Loss: 0.2143, Train Accuracy: 94.44%\n"
          ]
        },
        {
          "name": "stderr",
          "output_type": "stream",
          "text": [
            "Epoch 10: 100%|██████████| 938/938 [00:32<00:00, 29.06batch/s, accuracy=94.7, loss=0.217]\n"
          ]
        },
        {
          "name": "stdout",
          "output_type": "stream",
          "text": [
            "Epoch 10: Train Loss: 0.2171, Train Accuracy: 94.66%\n"
          ]
        },
        {
          "name": "stderr",
          "output_type": "stream",
          "text": [
            "Epoch 11: 100%|██████████| 938/938 [00:32<00:00, 28.96batch/s, accuracy=94.9, loss=0.2]\n"
          ]
        },
        {
          "name": "stdout",
          "output_type": "stream",
          "text": [
            "Epoch 11: Train Loss: 0.2001, Train Accuracy: 94.93%\n"
          ]
        },
        {
          "name": "stderr",
          "output_type": "stream",
          "text": [
            "Epoch 12: 100%|██████████| 938/938 [00:32<00:00, 28.90batch/s, accuracy=94.9, loss=0.201]\n"
          ]
        },
        {
          "name": "stdout",
          "output_type": "stream",
          "text": [
            "Epoch 12: Train Loss: 0.2014, Train Accuracy: 94.91%\n"
          ]
        },
        {
          "name": "stderr",
          "output_type": "stream",
          "text": [
            "Epoch 13: 100%|██████████| 938/938 [00:32<00:00, 29.21batch/s, accuracy=94.5, loss=0.214]\n"
          ]
        },
        {
          "name": "stdout",
          "output_type": "stream",
          "text": [
            "Epoch 13: Train Loss: 0.2136, Train Accuracy: 94.52%\n"
          ]
        },
        {
          "name": "stderr",
          "output_type": "stream",
          "text": [
            "Epoch 14: 100%|██████████| 938/938 [00:32<00:00, 28.54batch/s, accuracy=95.2, loss=0.197]\n"
          ]
        },
        {
          "name": "stdout",
          "output_type": "stream",
          "text": [
            "Epoch 14: Train Loss: 0.1967, Train Accuracy: 95.18%\n"
          ]
        },
        {
          "name": "stderr",
          "output_type": "stream",
          "text": [
            "Epoch 15: 100%|██████████| 938/938 [00:32<00:00, 29.29batch/s, accuracy=95.2, loss=0.196]\n"
          ]
        },
        {
          "name": "stdout",
          "output_type": "stream",
          "text": [
            "Epoch 15: Train Loss: 0.1956, Train Accuracy: 95.18%\n"
          ]
        },
        {
          "name": "stderr",
          "output_type": "stream",
          "text": [
            "Epoch 16: 100%|██████████| 938/938 [00:33<00:00, 28.37batch/s, accuracy=95.3, loss=0.191]\n"
          ]
        },
        {
          "name": "stdout",
          "output_type": "stream",
          "text": [
            "Epoch 16: Train Loss: 0.1911, Train Accuracy: 95.28%\n"
          ]
        },
        {
          "name": "stderr",
          "output_type": "stream",
          "text": [
            "Epoch 17: 100%|██████████| 938/938 [00:31<00:00, 29.32batch/s, accuracy=94.7, loss=0.227]\n"
          ]
        },
        {
          "name": "stdout",
          "output_type": "stream",
          "text": [
            "Epoch 17: Train Loss: 0.2272, Train Accuracy: 94.66%\n"
          ]
        },
        {
          "name": "stderr",
          "output_type": "stream",
          "text": [
            "Epoch 18: 100%|██████████| 938/938 [00:32<00:00, 28.53batch/s, accuracy=95.5, loss=0.179]\n"
          ]
        },
        {
          "name": "stdout",
          "output_type": "stream",
          "text": [
            "Epoch 18: Train Loss: 0.1788, Train Accuracy: 95.50%\n"
          ]
        },
        {
          "name": "stderr",
          "output_type": "stream",
          "text": [
            "Epoch 19: 100%|██████████| 938/938 [00:32<00:00, 29.18batch/s, accuracy=95.4, loss=0.193]"
          ]
        },
        {
          "name": "stdout",
          "output_type": "stream",
          "text": [
            "Epoch 19: Train Loss: 0.1934, Train Accuracy: 95.41%\n"
          ]
        },
        {
          "name": "stderr",
          "output_type": "stream",
          "text": [
            "\n"
          ]
        }
      ],
      "source": [
        "model_multi_layer.train()\n",
        "\n",
        "for epoch in range(n_epochs):\n",
        "    train_loss = 0.0\n",
        "    train_correct = 0\n",
        "    train_total = 0\n",
        "\n",
        "    with tqdm(training_loader, unit=\"batch\") as tepoch:\n",
        "        for data, labels in tepoch:\n",
        "            tepoch.set_description(f\"Epoch {epoch}\")\n",
        "\n",
        "            data, labels = data.to(device), labels.to(device)\n",
        "\n",
        "            optimizer.zero_grad()\n",
        "            outputs = model_multi_layer(data)\n",
        "            loss = criterion(outputs, labels)\n",
        "            loss.backward()\n",
        "            optimizer.step()\n",
        "\n",
        "            train_loss += loss.item()\n",
        "\n",
        "            predicted_classes = vector_to_class(outputs)\n",
        "            train_total += labels.size(0)\n",
        "            train_correct += (predicted_classes == labels).sum().item()\n",
        "\n",
        "            tepoch.set_postfix(loss=train_loss/train_total, accuracy=100. * train_correct/train_total)\n",
        "\n",
        "    avg_train_loss = train_loss / len(training_loader.dataset)\n",
        "    avg_train_acc = train_correct / train_total\n",
        "    print(f\"Epoch {epoch}: Train Loss: {avg_train_loss:.4f}, Train Accuracy: {avg_train_acc*100:.2f}%\")"
      ]
    },
    {
      "cell_type": "markdown",
      "metadata": {
        "id": "rEhsp9d6DGRv"
      },
      "source": [
        "Testing:"
      ]
    },
    {
      "cell_type": "code",
      "execution_count": null,
      "metadata": {
        "colab": {
          "base_uri": "https://localhost:8080/"
        },
        "id": "pZGhljaoDGRv",
        "outputId": "51469155-9193-4446-d85b-36d3721f908d"
      },
      "outputs": [
        {
          "name": "stdout",
          "output_type": "stream",
          "text": [
            "Final Test Accuracy: 95.31%\n"
          ]
        }
      ],
      "source": [
        "model_multi_layer.eval()\n",
        "test_correct = 0\n",
        "test_total = 0\n",
        "\n",
        "with torch.no_grad():\n",
        "    for data, labels in test_loader:\n",
        "        data, labels = data.to(device), labels.to(device)\n",
        "        outputs = model_multi_layer(data)\n",
        "        predicted_classes = vector_to_class(outputs)\n",
        "        test_total += labels.size(0)\n",
        "        test_correct += (predicted_classes == labels).sum().item()\n",
        "\n",
        "test_accuracy = test_correct / test_total\n",
        "print(f'Final Test Accuracy: {test_accuracy * 100:.2f}%')"
      ]
    },
    {
      "cell_type": "markdown",
      "metadata": {
        "id": "DNsLEBe9DGRv"
      },
      "source": [
        "We visualize a few images along with the predicted label on top:"
      ]
    },
    {
      "cell_type": "code",
      "execution_count": null,
      "metadata": {
        "id": "3yRzajnhDGRv"
      },
      "outputs": [],
      "source": [
        "import matplotlib.pyplot as plt\n",
        "\n",
        "def test_mnist_images(model, testset):\n",
        "    \"\"\"Visualizes model predictions on a few test images.\"\"\"\n",
        "    model.eval()\n",
        "    plt.figure(figsize=(10, 10))\n",
        "\n",
        "    for i in range(16):\n",
        "        image, label = testset[i]\n",
        "\n",
        "        image_for_plot = image.reshape(28, 28)\n",
        "\n",
        "        image_for_model = image.unsqueeze(0).to(device)\n",
        "\n",
        "        with torch.no_grad():\n",
        "            output = model(image_for_model)\n",
        "            prediction = vector_to_class(output).item()\n",
        "\n",
        "        plt.subplot(4, 4, i + 1)\n",
        "        plt.imshow(image_for_plot, cmap='gray')\n",
        "        plt.title(f\"Pred: {prediction}, True: {label}\", color=(\"green\" if prediction == label else \"red\"))\n",
        "        plt.axis('off')\n",
        "\n",
        "    plt.tight_layout()\n",
        "    plt.show()"
      ]
    },
    {
      "cell_type": "code",
      "execution_count": null,
      "metadata": {
        "colab": {
          "base_uri": "https://localhost:8080/",
          "height": 1000
        },
        "id": "E8iAdWF9DGRv",
        "outputId": "f18cba87-06dd-4aff-e578-c9f589071624"
      },
      "outputs": [
        {
          "data": {
            "image/png": "[encoded data removed]",
            "text/plain": [
              "<Figure size 1000x1000 with 16 Axes>"
            ]
          },
          "metadata": {},
          "output_type": "display_data"
        }
      ],
      "source": [
        "test_mnist_images(model_multi_layer, testset)"
      ]
    }
  ],
  "metadata": {
    "colab": {
      "provenance": []
    },
    "kernelspec": {
      "display_name": ".venv",
      "language": "python",
      "name": "python3"
    },
    "language_info": {
      "codemirror_mode": {
        "name": "ipython",
        "version": 3
      },
      "file_extension": ".py",
      "mimetype": "text/x-python",
      "name": "python",
      "nbconvert_exporter": "python",
      "pygments_lexer": "ipython3",
      "version": "3.13.2"
    }
  },
  "nbformat": 4,
  "nbformat_minor": 0
}
